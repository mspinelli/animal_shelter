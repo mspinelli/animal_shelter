{
 "cells": [
  {
   "cell_type": "code",
   "execution_count": 27,
   "metadata": {
    "collapsed": false
   },
   "outputs": [
    {
     "name": "stdout",
     "output_type": "stream",
     "text": [
      "Populating the interactive namespace from numpy and matplotlib\n"
     ]
    }
   ],
   "source": [
    "%pylab inline"
   ]
  },
  {
   "cell_type": "code",
   "execution_count": 94,
   "metadata": {
    "collapsed": false
   },
   "outputs": [],
   "source": [
    "import pandas as pd\n",
    "import itertools\n",
    "from IPython.core import display as ICD\n",
    "from sklearn.model_selection import train_test_split, StratifiedKFold\n",
    "from sklearn.ensemble import RandomForestClassifier\n",
    "from sklearn.preprocessing import Imputer\n",
    "from sklearn.metrics import confusion_matrix, classification_report, log_loss"
   ]
  },
  {
   "cell_type": "code",
   "execution_count": 104,
   "metadata": {
    "collapsed": false
   },
   "outputs": [
    {
     "data": {
      "text/plain": [
       "[(0, 'ID'),\n",
       " (1, 'AnimalID'),\n",
       " (2, 'Name'),\n",
       " (3, 'DateTime'),\n",
       " (4, 'OutcomeType'),\n",
       " (5, 'OutcomeSubtype'),\n",
       " (6, 'AnimalType'),\n",
       " (7, 'SexuponOutcome'),\n",
       " (8, 'AgeuponOutcome'),\n",
       " (9, 'Breed'),\n",
       " (10, 'Color'),\n",
       " (11, 'HasName'),\n",
       " (12, 'AgeinDays'),\n",
       " (13, 'Hour'),\n",
       " (14, 'Weekday'),\n",
       " (15, 'Month'),\n",
       " (16, 'WeekofYear'),\n",
       " (17, 'isHoliday'),\n",
       " (18, 'type'),\n",
       " (19, 'TransformedSex'),\n",
       " (20, 'Protects Property'),\n",
       " (21, 'Hunts & Chases'),\n",
       " (22, 'Less Likely to Wander'),\n",
       " (23, 'Loving'),\n",
       " (24, 'Child-Friendly'),\n",
       " (25, 'Dog-Friendly'),\n",
       " (26, 'Pet-Friendly'),\n",
       " (27, 'Stranger-Friendly'),\n",
       " (28, 'Avg Height (inches)'),\n",
       " (29, 'Avg Weight (pounds)'),\n",
       " (30, 'Size Score (1 to 5)'),\n",
       " (31, 'Avg Age'),\n",
       " (32, 'Fewer Health Issues'),\n",
       " (33, 'Energetic'),\n",
       " (34, 'Intelligent'),\n",
       " (35, 'Easy to Train'),\n",
       " (36, 'IsMix'),\n",
       " (37, 'Hair'),\n",
       " (38, 'IsMultiColor')]"
      ]
     },
     "execution_count": 104,
     "metadata": {},
     "output_type": "execute_result"
    }
   ],
   "source": [
    "n_splits = 8\n",
    "animals = pd.read_csv('animals.csv')\n",
    "animals.drop(\"ImputatedSex\", inplace=True, axis=1)\n",
    "animals = animals.rename(columns = {'Unnamed: 0':'ID'})\n",
    "[(i, x) for i, x in enumerate(animals.columns)]"
   ]
  },
  {
   "cell_type": "code",
   "execution_count": 105,
   "metadata": {
    "collapsed": false
   },
   "outputs": [],
   "source": [
    "animals.Hair = pd.Categorical(animals.Hair).codes # NaN becomes -1\n",
    "animals.loc[animals.Hair == -1, 'Hair'] = np.nan\n",
    "cols = [0] + range(11,39)\n",
    "cats = animals[animals.AnimalType=='Cat'].iloc[:,cols]\n",
    "dogs = animals[animals.AnimalType=='Dog'].iloc[:,cols]"
   ]
  },
  {
   "cell_type": "markdown",
   "metadata": {},
   "source": [
    "Fix the NaN values for cats and dogs seperately because we have some different columns for each and don't want to impute values using the median from the other animal type."
   ]
  },
  {
   "cell_type": "code",
   "execution_count": 106,
   "metadata": {
    "collapsed": false
   },
   "outputs": [
    {
     "data": {
      "text/plain": [
       "ID                       False\n",
       "HasName                  False\n",
       "AgeinDays                 True\n",
       "Hour                     False\n",
       "Weekday                  False\n",
       "Month                    False\n",
       "WeekofYear               False\n",
       "isHoliday                False\n",
       "type                     False\n",
       "TransformedSex           False\n",
       "Protects Property         True\n",
       "Hunts & Chases            True\n",
       "Less Likely to Wander     True\n",
       "Loving                    True\n",
       "Child-Friendly            True\n",
       "Dog-Friendly              True\n",
       "Pet-Friendly              True\n",
       "Stranger-Friendly         True\n",
       "Avg Height (inches)       True\n",
       "Avg Weight (pounds)       True\n",
       "Size Score (1 to 5)       True\n",
       "Avg Age                   True\n",
       "Fewer Health Issues       True\n",
       "Energetic                 True\n",
       "Intelligent               True\n",
       "Easy to Train             True\n",
       "IsMix                    False\n",
       "Hair                      True\n",
       "IsMultiColor             False\n",
       "dtype: bool"
      ]
     },
     "execution_count": 106,
     "metadata": {},
     "output_type": "execute_result"
    }
   ],
   "source": [
    "pd.isnull(cats).sum() > 0"
   ]
  },
  {
   "cell_type": "code",
   "execution_count": 107,
   "metadata": {
    "collapsed": false
   },
   "outputs": [],
   "source": [
    "imputer = Imputer(strategy='median')   \n",
    "cats.iloc[:, 10:26] = -1\n",
    "dogs.Hair = -1"
   ]
  },
  {
   "cell_type": "code",
   "execution_count": 108,
   "metadata": {
    "collapsed": false
   },
   "outputs": [
    {
     "data": {
      "text/plain": [
       "ID                       False\n",
       "HasName                  False\n",
       "AgeinDays                False\n",
       "Hour                     False\n",
       "Weekday                  False\n",
       "Month                    False\n",
       "WeekofYear               False\n",
       "isHoliday                False\n",
       "type                     False\n",
       "TransformedSex           False\n",
       "Protects Property        False\n",
       "Hunts & Chases           False\n",
       "Less Likely to Wander    False\n",
       "Loving                   False\n",
       "Child-Friendly           False\n",
       "Dog-Friendly             False\n",
       "Pet-Friendly             False\n",
       "Stranger-Friendly        False\n",
       "Avg Height (inches)      False\n",
       "Avg Weight (pounds)      False\n",
       "Size Score (1 to 5)      False\n",
       "Avg Age                  False\n",
       "Fewer Health Issues      False\n",
       "Energetic                False\n",
       "Intelligent              False\n",
       "Easy to Train            False\n",
       "IsMix                    False\n",
       "Hair                     False\n",
       "IsMultiColor             False\n",
       "OutcomeType              False\n",
       "dtype: bool"
      ]
     },
     "execution_count": 108,
     "metadata": {},
     "output_type": "execute_result"
    }
   ],
   "source": [
    "dogs = pd.merge(dogs, pd.DataFrame(imputer.fit_transform(dogs), columns = animals.iloc[:, cols].columns), \n",
    "                how='inner', on='ID').iloc[:, [0] + range(29, 57)] \n",
    "\n",
    "cats = pd.merge(cats, pd.DataFrame(imputer.fit_transform(cats), columns = animals.iloc[:, cols].columns), \n",
    "                how='inner', on='ID').iloc[:, [0] + range(29, 57)]\n",
    "\n",
    "outcomes = pd.DataFrame(animals.iloc[:, [0, 4]])\n",
    "animals = pd.concat([dogs, cats])\n",
    "animals = pd.merge(animals, outcomes, on='ID')\n",
    "animals.columns = [x.replace('_y', '') for x in animals.columns]\n",
    "pd.isnull(animals).sum() > 0"
   ]
  },
  {
   "cell_type": "code",
   "execution_count": 109,
   "metadata": {
    "collapsed": false
   },
   "outputs": [],
   "source": [
    "def run_skf(data, n_splits=10):\n",
    "    skf = StratifiedKFold(n_splits, random_state=8, shuffle=True)\n",
    "    t = data.OutcomeType\n",
    "    train, test = [], []\n",
    "    for train_index, validate_index in skf.split(np.zeros(len(t)), t):\n",
    "        train.append(data.loc[train_index])\n",
    "        test.append(data.loc[validate_index])\n",
    "    return train, test"
   ]
  },
  {
   "cell_type": "code",
   "execution_count": 113,
   "metadata": {
    "collapsed": true
   },
   "outputs": [],
   "source": [
    "def visualize_folds(data, train, test):\n",
    "    print('Total number of samples:{}\\n'.format(len(data)))\n",
    "    print('Training sample size per fold:')\n",
    "    summary = pd.DataFrame([\n",
    "        f.groupby('OutcomeType')\n",
    "        .count()\n",
    "        .ID.rename('Fold {}'.format(i+1)) \n",
    "        for i, f in enumerate(train)])\n",
    "    summary['Any'] = summary.sum(axis=1)\n",
    "    summary.columns = summary.columns.rename('')\n",
    "    ICD.display(summary)\n",
    "\n",
    "    print('Test samples per fold:')\n",
    "    summary = pd.DataFrame([\n",
    "        f.groupby('OutcomeType')\n",
    "        .count()\n",
    "        .ID.rename('Fold {}'.format(i+1)) \n",
    "        for i, f in enumerate(test)])\n",
    "    summary['Any'] = summary.sum(axis=1)\n",
    "    summary.columns = summary.columns.rename('')\n",
    "    ICD.display(summary)"
   ]
  },
  {
   "cell_type": "code",
   "execution_count": 114,
   "metadata": {
    "collapsed": false
   },
   "outputs": [],
   "source": [
    "from plotnine import *"
   ]
  },
  {
   "cell_type": "code",
   "execution_count": 115,
   "metadata": {
    "collapsed": false
   },
   "outputs": [
    {
     "name": "stdout",
     "output_type": "stream",
     "text": [
      "Total number of samples:26729\n",
      "\n",
      "Training sample size per fold:\n"
     ]
    },
    {
     "data": {
      "text/html": [
       "<div>\n",
       "<style>\n",
       "    .dataframe thead tr:only-child th {\n",
       "        text-align: right;\n",
       "    }\n",
       "\n",
       "    .dataframe thead th {\n",
       "        text-align: left;\n",
       "    }\n",
       "\n",
       "    .dataframe tbody tr th {\n",
       "        vertical-align: top;\n",
       "    }\n",
       "</style>\n",
       "<table border=\"1\" class=\"dataframe\">\n",
       "  <thead>\n",
       "    <tr style=\"text-align: right;\">\n",
       "      <th></th>\n",
       "      <th>Adoption</th>\n",
       "      <th>Died</th>\n",
       "      <th>Euthanasia</th>\n",
       "      <th>Return_to_owner</th>\n",
       "      <th>Transfer</th>\n",
       "      <th>Any</th>\n",
       "    </tr>\n",
       "  </thead>\n",
       "  <tbody>\n",
       "    <tr>\n",
       "      <th>Fold 1</th>\n",
       "      <td>9422</td>\n",
       "      <td>172</td>\n",
       "      <td>1360</td>\n",
       "      <td>4187</td>\n",
       "      <td>8244</td>\n",
       "      <td>23385</td>\n",
       "    </tr>\n",
       "    <tr>\n",
       "      <th>Fold 2</th>\n",
       "      <td>9423</td>\n",
       "      <td>172</td>\n",
       "      <td>1360</td>\n",
       "      <td>4187</td>\n",
       "      <td>8244</td>\n",
       "      <td>23386</td>\n",
       "    </tr>\n",
       "    <tr>\n",
       "      <th>Fold 3</th>\n",
       "      <td>9423</td>\n",
       "      <td>172</td>\n",
       "      <td>1360</td>\n",
       "      <td>4188</td>\n",
       "      <td>8244</td>\n",
       "      <td>23387</td>\n",
       "    </tr>\n",
       "    <tr>\n",
       "      <th>Fold 4</th>\n",
       "      <td>9423</td>\n",
       "      <td>172</td>\n",
       "      <td>1361</td>\n",
       "      <td>4188</td>\n",
       "      <td>8244</td>\n",
       "      <td>23388</td>\n",
       "    </tr>\n",
       "    <tr>\n",
       "      <th>Fold 5</th>\n",
       "      <td>9423</td>\n",
       "      <td>172</td>\n",
       "      <td>1361</td>\n",
       "      <td>4188</td>\n",
       "      <td>8244</td>\n",
       "      <td>23388</td>\n",
       "    </tr>\n",
       "    <tr>\n",
       "      <th>Fold 6</th>\n",
       "      <td>9423</td>\n",
       "      <td>173</td>\n",
       "      <td>1361</td>\n",
       "      <td>4188</td>\n",
       "      <td>8244</td>\n",
       "      <td>23389</td>\n",
       "    </tr>\n",
       "    <tr>\n",
       "      <th>Fold 7</th>\n",
       "      <td>9423</td>\n",
       "      <td>173</td>\n",
       "      <td>1361</td>\n",
       "      <td>4188</td>\n",
       "      <td>8245</td>\n",
       "      <td>23390</td>\n",
       "    </tr>\n",
       "    <tr>\n",
       "      <th>Fold 8</th>\n",
       "      <td>9423</td>\n",
       "      <td>173</td>\n",
       "      <td>1361</td>\n",
       "      <td>4188</td>\n",
       "      <td>8245</td>\n",
       "      <td>23390</td>\n",
       "    </tr>\n",
       "  </tbody>\n",
       "</table>\n",
       "</div>"
      ],
      "text/plain": [
       "        Adoption  Died  Euthanasia  Return_to_owner  Transfer    Any\n",
       "Fold 1      9422   172        1360             4187      8244  23385\n",
       "Fold 2      9423   172        1360             4187      8244  23386\n",
       "Fold 3      9423   172        1360             4188      8244  23387\n",
       "Fold 4      9423   172        1361             4188      8244  23388\n",
       "Fold 5      9423   172        1361             4188      8244  23388\n",
       "Fold 6      9423   173        1361             4188      8244  23389\n",
       "Fold 7      9423   173        1361             4188      8245  23390\n",
       "Fold 8      9423   173        1361             4188      8245  23390"
      ]
     },
     "metadata": {},
     "output_type": "display_data"
    },
    {
     "name": "stdout",
     "output_type": "stream",
     "text": [
      "Test samples per fold:\n"
     ]
    },
    {
     "data": {
      "text/html": [
       "<div>\n",
       "<style>\n",
       "    .dataframe thead tr:only-child th {\n",
       "        text-align: right;\n",
       "    }\n",
       "\n",
       "    .dataframe thead th {\n",
       "        text-align: left;\n",
       "    }\n",
       "\n",
       "    .dataframe tbody tr th {\n",
       "        vertical-align: top;\n",
       "    }\n",
       "</style>\n",
       "<table border=\"1\" class=\"dataframe\">\n",
       "  <thead>\n",
       "    <tr style=\"text-align: right;\">\n",
       "      <th></th>\n",
       "      <th>Adoption</th>\n",
       "      <th>Died</th>\n",
       "      <th>Euthanasia</th>\n",
       "      <th>Return_to_owner</th>\n",
       "      <th>Transfer</th>\n",
       "      <th>Any</th>\n",
       "    </tr>\n",
       "  </thead>\n",
       "  <tbody>\n",
       "    <tr>\n",
       "      <th>Fold 1</th>\n",
       "      <td>1347</td>\n",
       "      <td>25</td>\n",
       "      <td>195</td>\n",
       "      <td>599</td>\n",
       "      <td>1178</td>\n",
       "      <td>3344</td>\n",
       "    </tr>\n",
       "    <tr>\n",
       "      <th>Fold 2</th>\n",
       "      <td>1346</td>\n",
       "      <td>25</td>\n",
       "      <td>195</td>\n",
       "      <td>599</td>\n",
       "      <td>1178</td>\n",
       "      <td>3343</td>\n",
       "    </tr>\n",
       "    <tr>\n",
       "      <th>Fold 3</th>\n",
       "      <td>1346</td>\n",
       "      <td>25</td>\n",
       "      <td>195</td>\n",
       "      <td>598</td>\n",
       "      <td>1178</td>\n",
       "      <td>3342</td>\n",
       "    </tr>\n",
       "    <tr>\n",
       "      <th>Fold 4</th>\n",
       "      <td>1346</td>\n",
       "      <td>25</td>\n",
       "      <td>194</td>\n",
       "      <td>598</td>\n",
       "      <td>1178</td>\n",
       "      <td>3341</td>\n",
       "    </tr>\n",
       "    <tr>\n",
       "      <th>Fold 5</th>\n",
       "      <td>1346</td>\n",
       "      <td>25</td>\n",
       "      <td>194</td>\n",
       "      <td>598</td>\n",
       "      <td>1178</td>\n",
       "      <td>3341</td>\n",
       "    </tr>\n",
       "    <tr>\n",
       "      <th>Fold 6</th>\n",
       "      <td>1346</td>\n",
       "      <td>24</td>\n",
       "      <td>194</td>\n",
       "      <td>598</td>\n",
       "      <td>1178</td>\n",
       "      <td>3340</td>\n",
       "    </tr>\n",
       "    <tr>\n",
       "      <th>Fold 7</th>\n",
       "      <td>1346</td>\n",
       "      <td>24</td>\n",
       "      <td>194</td>\n",
       "      <td>598</td>\n",
       "      <td>1177</td>\n",
       "      <td>3339</td>\n",
       "    </tr>\n",
       "    <tr>\n",
       "      <th>Fold 8</th>\n",
       "      <td>1346</td>\n",
       "      <td>24</td>\n",
       "      <td>194</td>\n",
       "      <td>598</td>\n",
       "      <td>1177</td>\n",
       "      <td>3339</td>\n",
       "    </tr>\n",
       "  </tbody>\n",
       "</table>\n",
       "</div>"
      ],
      "text/plain": [
       "        Adoption  Died  Euthanasia  Return_to_owner  Transfer   Any\n",
       "Fold 1      1347    25         195              599      1178  3344\n",
       "Fold 2      1346    25         195              599      1178  3343\n",
       "Fold 3      1346    25         195              598      1178  3342\n",
       "Fold 4      1346    25         194              598      1178  3341\n",
       "Fold 5      1346    25         194              598      1178  3341\n",
       "Fold 6      1346    24         194              598      1178  3340\n",
       "Fold 7      1346    24         194              598      1177  3339\n",
       "Fold 8      1346    24         194              598      1177  3339"
      ]
     },
     "metadata": {},
     "output_type": "display_data"
    }
   ],
   "source": [
    "train, test = run_skf(animals, n_splits=n_splits)\n",
    "visualize_folds(animals, train, test)"
   ]
  },
  {
   "cell_type": "code",
   "execution_count": 116,
   "metadata": {
    "collapsed": true
   },
   "outputs": [],
   "source": [
    "def plot_confusion_matrix(cm, classes,\n",
    "                          normalize=False,\n",
    "                          title='Confusion matrix',\n",
    "                          cmap=plt.cm.Blues):\n",
    "    \"\"\"\n",
    "    This function prints and plots the confusion matrix.\n",
    "    Normalization can be applied by setting `normalize=True`.\n",
    "    \"\"\"\n",
    "    if normalize:\n",
    "        cm = cm.astype('float') / cm.sum(axis=1)[:, np.newaxis]\n",
    "\n",
    "    figure()\n",
    "    plt.imshow(cm, interpolation='nearest', cmap=cmap)\n",
    "    plt.title(title)\n",
    "    plt.colorbar()\n",
    "    tick_marks = np.arange(len(classes))\n",
    "    plt.xticks(tick_marks, classes, rotation=45)\n",
    "    plt.yticks(tick_marks, classes)\n",
    "\n",
    "    fmt = '.2f' if normalize else 'd'\n",
    "    thresh = cm.max() / 2.\n",
    "    for i, j in itertools.product(range(cm.shape[0]), range(cm.shape[1])):\n",
    "        plt.text(j, i, format(cm[i, j], fmt),\n",
    "                 horizontalalignment=\"center\",\n",
    "                 color=\"white\" if cm[i, j] > thresh else \"black\")\n",
    "\n",
    "    plt.tight_layout()\n",
    "    plt.ylabel('True label')\n",
    "    plt.xlabel('Predicted label')\n",
    "    plt.xticks(rotation=90)"
   ]
  },
  {
   "cell_type": "code",
   "execution_count": 117,
   "metadata": {
    "collapsed": true
   },
   "outputs": [],
   "source": [
    "def plot_results(log_loss_train, log_loss_test, test, train, pred_test, target_names, i):\n",
    "    print('Train log loss:', log_loss_train)\n",
    "    print('Test log loss:', log_loss_test)\n",
    "    \n",
    "    cm = confusion_matrix(test[i].OutcomeType.tolist(), pred_test, labels=target_names)\n",
    "    plot_confusion_matrix(\n",
    "        cm, target_names,\n",
    "        title='Confusion Matrix for Fold {0} of {1}'.format(i+1, len(train)))\n",
    "    print(classification_report(test[i].OutcomeType.tolist(), \n",
    "                            pred_test, target_names=target_names))"
   ]
  },
  {
   "cell_type": "code",
   "execution_count": 148,
   "metadata": {
    "collapsed": false
   },
   "outputs": [],
   "source": [
    "def run_forest_run(n_estimators, max_depth, avg_log_loss_train, avg_log_loss_test, \n",
    "                   test, train, target_names, i):    \n",
    "    clf = RandomForestClassifier(n_estimators=n_estimators,max_depth=max_depth, random_state=8)  \n",
    "\n",
    "    clf.fit(train[i].iloc[:,1:-1], train[i].OutcomeType)\n",
    "    pred_train = clf.predict(train[i].iloc[:,1:-1])\n",
    "    pred_test = clf.predict(test[i].iloc[:,1:-1])\n",
    "    \n",
    "    pred_train = pd.Categorical(pred_train, categories=target_names)\n",
    "    pred_test = pd.Categorical(pred_test, categories=target_names)\n",
    "    \n",
    "    k1_train = pd.get_dummies(pred_train)\n",
    "    k1_test = pd.get_dummies(pred_test)\n",
    "    k1_train = k1_train.reindex_axis(sorted(k1_train.columns), axis=1)\n",
    "    k1_test = k1_test.reindex_axis(sorted(k1_test.columns), axis=1)\n",
    "    \n",
    "    log_loss_train = log_loss(pd.get_dummies(train[i].OutcomeType), k1_train)\n",
    "    log_loss_test = log_loss(pd.get_dummies(test[i].OutcomeType), k1_test)\n",
    "       \n",
    "    avg_log_loss_train += log_loss_train\n",
    "    avg_log_loss_test += log_loss_test\n",
    "    \n",
    "    # Print the feature ranking\n",
    "    importances = clf.feature_importances_\n",
    "    std = np.std([tree.feature_importances_ for tree in clf.estimators_],\n",
    "                 axis=0)\n",
    "    indices = np.argsort(importances)[::-1]\n",
    "    print(\"Feature ranking:\")\n",
    "\n",
    "    X = train[i].iloc[:,1:-1]\n",
    "    for f in range(X.shape[1]):\n",
    "        print(\"%d. feature %s (%f)\" % (f, X.columns[f], importances[indices[f]]))\n",
    "\n",
    "    # Plot the feature importances of the forest\n",
    "    plt.figure()\n",
    "    plt.title(\"Feature importances\")\n",
    "    plt.bar(range(X.shape[1]), importances[indices],\n",
    "           color=\"r\", yerr=std[indices], align=\"center\")\n",
    "    plt.xticks(range(X.shape[1]), indices)\n",
    "    plt.xlim([-1, X.shape[1]])\n",
    "    plt.show()\n",
    "    \n",
    "    return pred_train, pred_test, log_loss_train, log_loss_test, avg_log_loss_test, avg_log_loss_train"
   ]
  },
  {
   "cell_type": "code",
   "execution_count": 149,
   "metadata": {
    "collapsed": false,
    "scrolled": true
   },
   "outputs": [
    {
     "name": "stdout",
     "output_type": "stream",
     "text": [
      "Feature ranking:\n",
      "0. feature HasName (0.205602)\n",
      "1. feature AgeinDays (0.185209)\n",
      "2. feature Hour (0.124924)\n",
      "3. feature Weekday (0.080756)\n",
      "4. feature Month (0.076939)\n",
      "5. feature WeekofYear (0.058329)\n",
      "6. feature isHoliday (0.046518)\n",
      "7. feature type (0.022104)\n",
      "8. feature TransformedSex (0.016238)\n",
      "9. feature Protects Property (0.014676)\n",
      "10. feature Hunts & Chases (0.013458)\n",
      "11. feature Less Likely to Wander (0.013217)\n",
      "12. feature Loving (0.012171)\n",
      "13. feature Child-Friendly (0.012136)\n",
      "14. feature Dog-Friendly (0.010812)\n",
      "15. feature Pet-Friendly (0.010700)\n",
      "16. feature Stranger-Friendly (0.010626)\n",
      "17. feature Avg Height (inches) (0.010600)\n",
      "18. feature Avg Weight (pounds) (0.010477)\n",
      "19. feature Size Score (1 to 5) (0.009686)\n",
      "20. feature Avg Age (0.008802)\n",
      "21. feature Fewer Health Issues (0.008690)\n",
      "22. feature Energetic (0.008127)\n",
      "23. feature Intelligent (0.007789)\n",
      "24. feature Easy to Train (0.007702)\n",
      "25. feature IsMix (0.007283)\n",
      "26. feature Hair (0.006169)\n",
      "27. feature IsMultiColor (0.000258)\n"
     ]
    },
    {
     "data": {
      "image/png": "[encoded data removed]",
      "text/plain": [
       "<matplotlib.figure.Figure at 0x7f1059f5ca10>"
      ]
     },
     "metadata": {},
     "output_type": "display_data"
    },
    {
     "name": "stdout",
     "output_type": "stream",
     "text": [
      "('Train log loss:', 5.011334971474537)\n",
      "('Test log loss:', 10.576467412795621)\n",
      "                 precision    recall  f1-score   support\n",
      "\n",
      "       Adoption       0.71      0.84      0.77      1347\n",
      "           Died       1.00      0.04      0.08        25\n",
      "     Euthanasia       0.59      0.14      0.22       195\n",
      "Return_to_owner       0.54      0.49      0.51       599\n",
      "       Transfer       0.75      0.73      0.74      1178\n",
      "\n",
      "    avg / total       0.69      0.69      0.68      3344\n",
      "\n",
      "('Avg. train log loss:', 0.62641687143431712)\n",
      "('Avg. test log loss:', 1.3220584265994526)\n"
     ]
    },
    {
     "data": {
      "image/png": "[encoded data removed]",
      "text/plain": [
       "<matplotlib.figure.Figure at 0x7f1059ed67d0>"
      ]
     },
     "metadata": {},
     "output_type": "display_data"
    }
   ],
   "source": [
    "target_names = sort(animals.OutcomeType.unique())\n",
    "avg_log_loss_train = 0\n",
    "avg_log_loss_test = 0\n",
    "\n",
    "for i in range(n_splits):\n",
    "    (pred_train, pred_test, \n",
    "     log_loss_train, log_loss_test,\n",
    "     avg_log_loss_test,\n",
    "     avg_log_loss_train) = run_forest_run(25, 15, avg_log_loss_train, avg_log_loss_test, \n",
    "                                          test, train, target_names, i)    \n",
    "    plot_results(log_loss_train, log_loss_test, test, train, pred_test, target_names, i)\n",
    "    break\n",
    "\n",
    "avg_log_loss_train /= n_splits\n",
    "avg_log_loss_test /= n_splits\n",
    "print('Avg. train log loss:', avg_log_loss_train)\n",
    "print('Avg. test log loss:', avg_log_loss_test) \n",
    "    "
   ]
  },
  {
   "cell_type": "code",
   "execution_count": 130,
   "metadata": {
    "collapsed": false
   },
   "outputs": [
    {
     "data": {
      "image/png": "[encoded data removed]",
      "text/plain": [
       "<matplotlib.figure.Figure at 0x7f1059910c50>"
      ]
     },
     "metadata": {},
     "output_type": "display_data"
    }
   ],
   "source": [
    "from multiprocessing import Pool\n",
    "\n",
    "def iteration(i):\n",
    "    try:\n",
    "        (pred_train, pred_test, \n",
    "         log_loss_train, log_loss_test,\n",
    "         _, _) = run_forest_run(20, i, avg_log_loss_train, avg_log_loss_test, \n",
    "                                test, train, target_names, 0) \n",
    "        return (i, log_loss_train, log_loss_test)\n",
    "    except:\n",
    "        import traceback\n",
    "        traceback.print_exc()\n",
    "\n",
    "range_ = range(2, 100)\n",
    "p = Pool(processes=20)\n",
    "result = p.map(iteration, range_)\n",
    "\n",
    "ln_loss = pd.DataFrame(result, columns=['max_depth', 'train', 'test'])\n",
    "ln_loss = pd.melt(ln_loss, id_vars=['max_depth'], value_vars=['train', 'test'])\n",
    "\n",
    "(ggplot(ln_loss, aes(x='max_depth', y='value', color='variable'))\n",
    " + geom_line(size=1)\n",
    " + theme_seaborn()\n",
    " + theme(panel_grid_minor = element_line(size=0.5))\n",
    " + ylab('log loss')\n",
    ").draw().set_size_inches(10, 3)"
   ]
  },
  {
   "cell_type": "markdown",
   "metadata": {},
   "source": [
    "# TODO\n",
    "\n",
    "* Try changing TransformedSex to not umpute Unknowns (and just just change the one NaN to an unknown). I think this will improve the results."
   ]
  },
  {
   "cell_type": "code",
   "execution_count": null,
   "metadata": {
    "collapsed": true
   },
   "outputs": [],
   "source": []
  }
 ],
 "metadata": {
  "kernelspec": {
   "display_name": "Python [conda env:femiani]",
   "language": "python",
   "name": "conda-env-femiani-py"
  },
  "language_info": {
   "codemirror_mode": {
    "name": "ipython",
    "version": 2
   },
   "file_extension": ".py",
   "mimetype": "text/x-python",
   "name": "python",
   "nbconvert_exporter": "python",
   "pygments_lexer": "ipython2",
   "version": "2.7.12"
  }
 },
 "nbformat": 4,
 "nbformat_minor": 1
}

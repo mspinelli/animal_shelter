{
 "cells": [
  {
   "cell_type": "code",
   "execution_count": 1,
   "metadata": {
    "scrolled": true
   },
   "outputs": [
    {
     "name": "stdout",
     "output_type": "stream",
     "text": [
      "Populating the interactive namespace from numpy and matplotlib\n"
     ]
    }
   ],
   "source": [
    "import pandas as pd\n",
    "import numpy as np\n",
    "import matplotlib.pyplot as plt\n",
    "import seaborn as sns\n",
    "from pandas import DataFrame,merge\n",
    "%pylab inline\n",
    "np.random.seed(127)"
   ]
  },
  {
   "cell_type": "code",
   "execution_count": 2,
   "metadata": {
    "collapsed": true
   },
   "outputs": [],
   "source": [
    "sns.set_palette(\"hls\", 5)"
   ]
  },
  {
   "cell_type": "code",
   "execution_count": 3,
   "metadata": {
    "collapsed": true
   },
   "outputs": [],
   "source": [
    "animals = pd.read_csv(\"train.csv.gz\", compression='gzip')\n",
    "# animals.head()"
   ]
  },
  {
   "cell_type": "markdown",
   "metadata": {},
   "source": [
    "### How OutcomeType affected by AnimalType and SexuponOutcome\n",
    "Our target column is \"OutcomeType\". First we are interested to see how the \"AnimalType\" and \"SexuponOutcome\" attributes affect an animals outcome."
   ]
  },
  {
   "cell_type": "code",
   "execution_count": 64,
   "metadata": {},
   "outputs": [
    {
     "data": {
      "image/png": "[encoded data removed]",
      "text/plain": [
       "<matplotlib.figure.Figure at 0x120215590>"
      ]
     },
     "metadata": {},
     "output_type": "display_data"
    }
   ],
   "source": [
    "f, axs = plt.subplots(ncols=2)\n",
    "\n",
    "axs[0].yaxis.label.set_size(16)\n",
    "axs[1].yaxis.label.set_size(16)\n",
    "\n",
    "f.set_size_inches(16, 8)\n",
    "plt.subplots_adjust(wspace=.5)\n",
    "\n",
    "(animals\n",
    " .groupby(\"AnimalType\")\n",
    " .OutcomeType\n",
    " .value_counts(normalize=True)\n",
    " .unstack()\n",
    " .plot(kind=\"barh\", stacked=True, ax=axs[0], width = 0.75, \n",
    "       fontsize=16, edgecolor='k', linewidth=0.5)\n",
    " .legend(fontsize=16, ncol=5, bbox_to_anchor=(2, -.1))\n",
    ")\n",
    "\n",
    "(animals\n",
    " .groupby(\"SexuponOutcome\")\n",
    " .OutcomeType\n",
    " .value_counts(normalize=True)\n",
    " .unstack()\n",
    " .plot(kind=\"barh\", stacked=True, ax=axs[1], fontsize=16, \n",
    "       edgecolor='k', linewidth=0.5, legend=False)\n",
    ");"
   ]
  },
  {
   "cell_type": "markdown",
   "metadata": {},
   "source": [
    "We have several findings here:\n",
    "* Both dogs and cats has a low \"Euthanasia\" and \"Died\" rate, good news.\n",
    "* Dogs are significantly more likely to be \"Return_to_owner\" than cats.\n",
    "* Dogs are more likely to be in \"returned_to_owner\" than cats but cats has a higher \"Transfer\" rate\n",
    "* Intact + unknown animals are more likely to be transfered. If we want to increase adoption rate, we should get animals neutered.\n",
    "* This \"unknown\" group never gets adopted.\n",
    "\n",
    "So far we don't know what other information we can draw from these features, we'll leave them as is."
   ]
  },
  {
   "cell_type": "code",
   "execution_count": 5,
   "metadata": {
    "collapsed": true
   },
   "outputs": [],
   "source": [
    "# categorical feature \"type\"\n",
    "typedict = {\"Dog\": 0, \"Cat\":1}\n",
    "animals[\"type\"] = animals[\"AnimalType\"].map(typedict)"
   ]
  },
  {
   "cell_type": "markdown",
   "metadata": {},
   "source": [
    "## Explore NULL values"
   ]
  },
  {
   "cell_type": "code",
   "execution_count": 6,
   "metadata": {},
   "outputs": [
    {
     "name": "stdout",
     "output_type": "stream",
     "text": [
      "Feature \"Name\" has 7691 missing values\n",
      "Feature \"OutcomeSubtype\" has 13117 missing values\n",
      "Feature \"SexuponOutcome\" has 1 missing values\n",
      "Feature \"AgeuponOutcome\" has 18 missing values\n"
     ]
    }
   ],
   "source": [
    "for att in animals.columns:\n",
    "    nums = animals[att].isnull().value_counts().as_matrix()\n",
    "    if (len(nums) != 1):\n",
    "        print \"Feature \\\"{}\\\" has {} missing values\".format(att, nums[-1])"
   ]
  },
  {
   "cell_type": "markdown",
   "metadata": {},
   "source": [
    "First, we want to know the columns that has `np.nan` values and the number of `np.nan`s"
   ]
  },
  {
   "cell_type": "markdown",
   "metadata": {},
   "source": [
    "### Name NULL values\n",
    "\n",
    "Name might not seem like the first feature that matters when it comes to the outcome of an animal.However, having a name or not might affect the outcome of an animal, let's try it out."
   ]
  },
  {
   "cell_type": "code",
   "execution_count": 7,
   "metadata": {},
   "outputs": [
    {
     "name": "stdout",
     "output_type": "stream",
     "text": [
      "When Name is X, outcome of this animal is ['Transfer']\n"
     ]
    }
   ],
   "source": [
    "# one interesting finding is that all animals that are named 'X' are transfered. We reason this might be the \n",
    "# another internal way of addressing an animal when transferring it without knowing its name. But it could also \n",
    "# be a second way they record if an animal has no name.\n",
    "print \"When Name is X, outcome of this animal is {}\".format(animals[animals.Name == 'X'].OutcomeType.unique())"
   ]
  },
  {
   "cell_type": "code",
   "execution_count": 8,
   "metadata": {
    "collapsed": true,
    "scrolled": true
   },
   "outputs": [],
   "source": [
    "# we map nan and 'X' as '0' meaning no name, everything else has name\n",
    "animals['HasName'] = animals.Name.map(lambda x : 0 if x == 'X' else 1, na_action='ignore')\n",
    "animals['HasName'].fillna(value=0, inplace=True)"
   ]
  },
  {
   "cell_type": "code",
   "execution_count": 9,
   "metadata": {},
   "outputs": [
    {
     "data": {
      "image/png": "[encoded data removed]",
      "text/plain": [
       "<matplotlib.figure.Figure at 0x10ea50510>"
      ]
     },
     "metadata": {},
     "output_type": "display_data"
    }
   ],
   "source": [
    "(animals\n",
    " .groupby(\"HasName\")\n",
    " .OutcomeType\n",
    " .value_counts(normalize=True)\n",
    " .unstack()\n",
    " .plot(kind=\"barh\", stacked=True, figsize=(6,6), width = 0.75, \n",
    "       fontsize=16, edgecolor='k', linewidth=0.5)\n",
    " .legend(fontsize=16, ncol=1, bbox_to_anchor=(1, 0.75))\n",
    ")\n",
    "ax = plt.gca()\n",
    "ax.yaxis.label.set_size(16)"
   ]
  },
  {
   "cell_type": "markdown",
   "metadata": {},
   "source": [
    "### DateTime Features\n",
    "We would like to add additional features indicating timeofday, weekofyear, etc for each DateTime value"
   ]
  },
  {
   "cell_type": "code",
   "execution_count": 10,
   "metadata": {},
   "outputs": [
    {
     "name": "stdout",
     "output_type": "stream",
     "text": [
      "Our records are between the range 2013-10-01 09:31:00 to 2016-02-21 19:17:00\n"
     ]
    }
   ],
   "source": [
    "# we already know that \"DateTime\" column does not have null values\n",
    "animals['Timestamps'] = pd.to_datetime(animals['DateTime'])\n",
    "\n",
    "print \"Our records are between the range {} to {}\".format(animals.Timestamps.min(), animals.Timestamps.max())"
   ]
  },
  {
   "cell_type": "code",
   "execution_count": 11,
   "metadata": {
    "collapsed": true
   },
   "outputs": [],
   "source": [
    "# we convert timestamps to several potential groups\n",
    "animals['Year'] = animals.Timestamps.dt.year\n",
    "animals['Month'] = animals.Timestamps.dt.month\n",
    "animals['Weekday'] = animals.Timestamps.dt.weekday\n",
    "animals['Hour'] = animals.Timestamps.dt.hour\n",
    "animals['WeekofYear'] = animals.Timestamps.dt.weekofyear\n",
    "animals['DayofMonth'] = animals.Timestamps.dt.day"
   ]
  },
  {
   "cell_type": "code",
   "execution_count": 61,
   "metadata": {},
   "outputs": [],
   "source": [
    "def plot_datetime_features(feature, width_inches=16.5, tick_font_size=14, label_font_size=14):\n",
    "    f, axs = plt.subplots(ncols=2)\n",
    "    f.set_size_inches(width_inches, 5)\n",
    "    axs[0].xaxis.label.set_size(label_font_size)\n",
    "    axs[1].xaxis.label.set_size(label_font_size)\n",
    "    \n",
    "    (animals\n",
    "     .groupby(feature)\n",
    "     .OutcomeType\n",
    "     .value_counts(normalize=True)\n",
    "     .unstack()\n",
    "     .plot(fontsize=tick_font_size,kind=\"bar\", stacked=True, ax=axs[0], \n",
    "           edgecolor='k', linewidth=0.5, width=1, legend=False))\n",
    "    \n",
    "    (animals\n",
    "     .groupby(feature)\n",
    "     .OutcomeType.value_counts()\n",
    "     .unstack()\n",
    "     .plot(fontsize=tick_font_size, kind=\"bar\", stacked=True, ax=axs[1], \n",
    "           edgecolor='k', linewidth=0.5, width=1)\n",
    "     .legend(fontsize=label_font_size, ncol=5, bbox_to_anchor=(-.1, -.3), loc='center'))"
   ]
  },
  {
   "cell_type": "code",
   "execution_count": 62,
   "metadata": {
    "scrolled": false
   },
   "outputs": [
    {
     "data": {
      "image/png": "[encoded data removed]",
      "text/plain": [
       "<matplotlib.figure.Figure at 0x11ec05ad0>"
      ]
     },
     "metadata": {},
     "output_type": "display_data"
    }
   ],
   "source": [
    "plot_datetime_features(\"Year\")"
   ]
  },
  {
   "cell_type": "markdown",
   "metadata": {},
   "source": [
    "Year does not seem to be an important feature as percentage-wise it does not affect animal outcome very much with the exception of 2016. However, since we have a lot less samples in 2016, the percentage advantage of later year is hard to infer."
   ]
  },
  {
   "cell_type": "code",
   "execution_count": 14,
   "metadata": {
    "scrolled": false
   },
   "outputs": [
    {
     "data": {
      "image/png": "[encoded data removed]",
      "text/plain": [
       "<matplotlib.figure.Figure at 0x119d61490>"
      ]
     },
     "metadata": {},
     "output_type": "display_data"
    }
   ],
   "source": [
    "plot_datetime_features(\"Month\")"
   ]
  },
  {
   "cell_type": "code",
   "execution_count": 15,
   "metadata": {},
   "outputs": [
    {
     "data": {
      "image/png": "[encoded data removed]",
      "text/plain": [
       "<matplotlib.figure.Figure at 0x11dc8b450>"
      ]
     },
     "metadata": {},
     "output_type": "display_data"
    }
   ],
   "source": [
    "plot_datetime_features(\"Weekday\")"
   ]
  },
  {
   "cell_type": "markdown",
   "metadata": {},
   "source": [
    "Fridays and Saterdays have a higher adoption rate but lower than average transfer rate. "
   ]
  },
  {
   "cell_type": "code",
   "execution_count": 16,
   "metadata": {},
   "outputs": [
    {
     "data": {
      "image/png": "[encoded data removed]",
      "text/plain": [
       "<matplotlib.figure.Figure at 0x11e10e750>"
      ]
     },
     "metadata": {},
     "output_type": "display_data"
    }
   ],
   "source": [
    "plot_datetime_features(\"Hour\")"
   ]
  },
  {
   "cell_type": "code",
   "execution_count": 17,
   "metadata": {},
   "outputs": [
    {
     "data": {
      "image/png": "[encoded data removed]",
      "text/plain": [
       "<matplotlib.figure.Figure at 0x11e104510>"
      ]
     },
     "metadata": {},
     "output_type": "display_data"
    }
   ],
   "source": [
    "plot_datetime_features(\"WeekofYear\", width_inches=17, tick_font_size=9)"
   ]
  },
  {
   "cell_type": "code",
   "execution_count": 18,
   "metadata": {
    "collapsed": true
   },
   "outputs": [],
   "source": [
    "import holidays\n",
    "\n",
    "from dateutil.relativedelta import relativedelta\n",
    "from datetime import date\n",
    "class MyHolidays(holidays.UnitedStates):\n",
    "    def _populate(self, year):\n",
    "        # Populate the holiday list with the default US holidays\n",
    "        holidays.UnitedStates._populate(self, year)\n",
    "        # Remove Columbus Day\n",
    "        # self.pop(date(year, 10, 1) + relativedelta(weekday=MO(+2)), None)\n",
    "        # Add Valentines Day\n",
    "        self[date(year, 2, 14)] = \"Valentines Day\"\n",
    "        self[date(year, 1, 1) + relativedelta(weekday=MO(+3))] = \"Martin Luther King Day\"\n",
    "        self[date(year, 2, 1) + relativedelta(weekday=MO(+3))] = \"President's Day\"\n",
    "        self[date(year, 5, 1) + relativedelta(weekday=SU(+2))] = \"Mother's Day\"\n",
    "        self[date(year, 6, 1) + relativedelta(weekday=SU(+3))] = \"Father's Day\"\n",
    "        self[date(year, 10, 31)] = \"Halloween\""
   ]
  },
  {
   "cell_type": "code",
   "execution_count": 19,
   "metadata": {},
   "outputs": [
    {
     "data": {
      "image/png": "[encoded data removed]",
      "text/plain": [
       "<matplotlib.figure.Figure at 0x11db99d50>"
      ]
     },
     "metadata": {},
     "output_type": "display_data"
    }
   ],
   "source": [
    "(animals\n",
    " .groupby(\"DayofMonth\")\n",
    " .OutcomeType\n",
    " .value_counts(normalize=True)\n",
    " .unstack()\n",
    " .plot(kind=\"bar\", stacked=True, figsize=(14,4), width = 1, fontsize=16, edgecolor='k', linewidth=.5)\n",
    " .legend(fontsize=16, ncol=1, bbox_to_anchor=(1, 0.75))\n",
    " )\n",
    "ax = plt.gca()\n",
    "ax.xaxis.label.set_size(16)\n"
   ]
  },
  {
   "cell_type": "code",
   "execution_count": 20,
   "metadata": {
    "collapsed": true
   },
   "outputs": [],
   "source": [
    "def is_holiday(t):\n",
    "    tx_holidays = MyHolidays(state=\"TX\", years =[2015])\n",
    "    dt = datetime.datetime.strptime(t, r\"%Y-%m-%d %H:%M:%S\")\n",
    "    if (dt.month in [1,12,7,8]) or (dt.date() in tx_holidays) or dt.weekday() in [5,6]:\n",
    "        return True\n",
    "    return False"
   ]
  },
  {
   "cell_type": "code",
   "execution_count": 21,
   "metadata": {},
   "outputs": [
    {
     "data": {
      "image/png": "[encoded data removed]",
      "text/plain": [
       "<matplotlib.figure.Figure at 0x11eb9f150>"
      ]
     },
     "metadata": {},
     "output_type": "display_data"
    }
   ],
   "source": [
    "animals[\"isHoliday\"] = animals[\"DateTime\"].apply(is_holiday)\n",
    "plot_datetime_features(\"isHoliday\")"
   ]
  },
  {
   "cell_type": "markdown",
   "metadata": {},
   "source": [
    "### AgeuponOutcome \n",
    "First we need to use the same unit on AgeuponOutcome feature. We decide to convert all of them into days. Note that some animals has an ange of \"0 years\""
   ]
  },
  {
   "cell_type": "markdown",
   "metadata": {},
   "source": [
    "The interesting finding is that all animals are missing age info happened in a very small time window."
   ]
  },
  {
   "cell_type": "code",
   "execution_count": 22,
   "metadata": {
    "collapsed": true
   },
   "outputs": [],
   "source": [
    "units = {\"year\" : 365, \"month\":31, \"day\":1, \"week\":7}\n",
    "\n",
    "def get_age_in_days(agestring):\n",
    "    tokens = agestring.split(\" \")\n",
    "    unit = tokens[1].replace(\"s\",\"\")\n",
    "    days = int(tokens[0]) * units[unit]\n",
    "    # return days\n",
    "    return days if days != 0 else -1\n",
    "\n",
    "animals[\"AgeinDays\"] = animals.AgeuponOutcome.map(get_age_in_days, na_action=\"ignore\")"
   ]
  },
  {
   "cell_type": "code",
   "execution_count": 23,
   "metadata": {},
   "outputs": [
    {
     "name": "stdout",
     "output_type": "stream",
     "text": [
      "2016-02-09 19:43:00 to 2016-02-21 18:22:00\n"
     ]
    }
   ],
   "source": [
    "print \"{} to {}\".format(animals[animals.AgeinDays.isnull()].Timestamps.min(), \n",
    "                        animals[animals.AgeinDays.isnull()].Timestamps.max())"
   ]
  },
  {
   "cell_type": "code",
   "execution_count": 24,
   "metadata": {
    "scrolled": false
   },
   "outputs": [
    {
     "data": {
      "text/plain": [
       "Series([], Name: OutcomeType, dtype: int64)"
      ]
     },
     "execution_count": 24,
     "metadata": {},
     "output_type": "execute_result"
    }
   ],
   "source": [
    "# if we comebine them with all the AgeinDays == 0 animals, the outcome looks like this: No one was adopted\n",
    "animals[animals.AgeinDays.isnull() | animals.AgeinDays==0].OutcomeType.value_counts()\n",
    "# So we decide to group nan and 0 year animals to -1"
   ]
  },
  {
   "cell_type": "code",
   "execution_count": 25,
   "metadata": {},
   "outputs": [
    {
     "data": {
      "image/png": "[encoded data removed]",
      "text/plain": [
       "<matplotlib.figure.Figure at 0x11dd3fc10>"
      ]
     },
     "metadata": {},
     "output_type": "display_data"
    }
   ],
   "source": [
    "# Now the distribution of ageindays looks like:\n",
    "fig, ax = plt.subplots()\n",
    "animals[\"AgeinDays\"].plot(fontsize=14, kind=\"kde\", ax=ax, xlim=(-50, 6500), secondary_y=True)\n",
    "animals[\"AgeinDays\"].plot(fontsize=14, kind=\"hist\", bins=100, xlim=(-50, 6500),  ax=ax, zorder=2)\n",
    "twin_ax = ax.figure.axes[1]\n",
    "ax.yaxis.label.set_size(14)\n",
    "[tick.set_fontsize(14) for tick in twin_ax.yaxis.get_ticklabels()];"
   ]
  },
  {
   "cell_type": "markdown",
   "metadata": {},
   "source": [
    "We have more young animals than old. The probability distribution is greately affected by the records (very discrete). We decide to also map ages to infant, child, young adult, adult and old groups"
   ]
  },
  {
   "cell_type": "code",
   "execution_count": 26,
   "metadata": {
    "collapsed": true
   },
   "outputs": [],
   "source": [
    "bins = [-5, 0, 5 * units[\"month\"], 12 * units[\"month\"], 3*units[\"year\"],\n",
    "        6 * units[\"year\"], 10*units[\"year\"], 20 * units[\"year\"]]\n",
    "labels = [\"Unknown\", \"Infant\", \"Puppy/Kitten\", \"Young Adult\", \"Adult\", \"Senior\", \"Geriatric\"]\n",
    "\n",
    "animals[\"LifeStage\"] = pd.Categorical(pd.cut(animals.AgeinDays, bins=bins, labels=labels), categories=labels)"
   ]
  },
  {
   "cell_type": "code",
   "execution_count": 27,
   "metadata": {},
   "outputs": [
    {
     "data": {
      "image/png": "[encoded data removed]",
      "text/plain": [
       "<matplotlib.figure.Figure at 0x11eb85050>"
      ]
     },
     "metadata": {},
     "output_type": "display_data"
    }
   ],
   "source": [
    "(animals\n",
    " .groupby(\"LifeStage\")\n",
    " .OutcomeType\n",
    " .value_counts(normalize=True)\n",
    " .unstack()\n",
    " .plot(kind=\"bar\", stacked=True, width = 1, fontsize=16, edgecolor='k', linewidth=.5)\n",
    " .legend(fontsize=16, ncol=1, bbox_to_anchor=(1, 0.75))\n",
    " )\n",
    "ax = plt.gca()\n",
    "ax.xaxis.label.set_size(16)\n"
   ]
  },
  {
   "cell_type": "markdown",
   "metadata": {},
   "source": [
    "### SexuponOutcome NULL and Unknown values"
   ]
  },
  {
   "cell_type": "code",
   "execution_count": 28,
   "metadata": {},
   "outputs": [
    {
     "data": {
      "text/html": [
       "<div>\n",
       "<style>\n",
       "    .dataframe thead tr:only-child th {\n",
       "        text-align: right;\n",
       "    }\n",
       "\n",
       "    .dataframe thead th {\n",
       "        text-align: left;\n",
       "    }\n",
       "\n",
       "    .dataframe tbody tr th {\n",
       "        vertical-align: top;\n",
       "    }\n",
       "</style>\n",
       "<table border=\"1\" class=\"dataframe\">\n",
       "  <thead>\n",
       "    <tr style=\"text-align: right;\">\n",
       "      <th></th>\n",
       "      <th>AnimalID</th>\n",
       "      <th>Name</th>\n",
       "      <th>DateTime</th>\n",
       "      <th>OutcomeType</th>\n",
       "      <th>OutcomeSubtype</th>\n",
       "      <th>AnimalType</th>\n",
       "      <th>SexuponOutcome</th>\n",
       "      <th>AgeuponOutcome</th>\n",
       "      <th>Breed</th>\n",
       "      <th>Color</th>\n",
       "      <th>...</th>\n",
       "      <th>Timestamps</th>\n",
       "      <th>Year</th>\n",
       "      <th>Month</th>\n",
       "      <th>Weekday</th>\n",
       "      <th>Hour</th>\n",
       "      <th>WeekofYear</th>\n",
       "      <th>DayofMonth</th>\n",
       "      <th>isHoliday</th>\n",
       "      <th>AgeinDays</th>\n",
       "      <th>LifeStage</th>\n",
       "    </tr>\n",
       "  </thead>\n",
       "  <tbody>\n",
       "    <tr>\n",
       "      <th>3174</th>\n",
       "      <td>A667395</td>\n",
       "      <td>Diego</td>\n",
       "      <td>2013-11-27 16:11:00</td>\n",
       "      <td>Return_to_owner</td>\n",
       "      <td>NaN</td>\n",
       "      <td>Dog</td>\n",
       "      <td>NaN</td>\n",
       "      <td>7 years</td>\n",
       "      <td>Dachshund</td>\n",
       "      <td>Brown Merle</td>\n",
       "      <td>...</td>\n",
       "      <td>2013-11-27 16:11:00</td>\n",
       "      <td>2013</td>\n",
       "      <td>11</td>\n",
       "      <td>2</td>\n",
       "      <td>16</td>\n",
       "      <td>48</td>\n",
       "      <td>27</td>\n",
       "      <td>False</td>\n",
       "      <td>2555.0</td>\n",
       "      <td>Senior</td>\n",
       "    </tr>\n",
       "  </tbody>\n",
       "</table>\n",
       "<p>1 rows × 22 columns</p>\n",
       "</div>"
      ],
      "text/plain": [
       "     AnimalID   Name             DateTime      OutcomeType OutcomeSubtype  \\\n",
       "3174  A667395  Diego  2013-11-27 16:11:00  Return_to_owner            NaN   \n",
       "\n",
       "     AnimalType SexuponOutcome AgeuponOutcome      Breed        Color  \\\n",
       "3174        Dog            NaN        7 years  Dachshund  Brown Merle   \n",
       "\n",
       "        ...              Timestamps  Year Month  Weekday  Hour  WeekofYear  \\\n",
       "3174    ...     2013-11-27 16:11:00  2013    11        2    16          48   \n",
       "\n",
       "      DayofMonth  isHoliday  AgeinDays  LifeStage  \n",
       "3174          27      False     2555.0     Senior  \n",
       "\n",
       "[1 rows x 22 columns]"
      ]
     },
     "execution_count": 28,
     "metadata": {},
     "output_type": "execute_result"
    }
   ],
   "source": [
    "animals[animals.SexuponOutcome.isnull()]"
   ]
  },
  {
   "cell_type": "code",
   "execution_count": 29,
   "metadata": {},
   "outputs": [
    {
     "data": {
      "text/plain": [
       "Neutered Male    97\n",
       "Intact Male      13\n",
       "Name: SexuponOutcome, dtype: int64"
      ]
     },
     "execution_count": 29,
     "metadata": {},
     "output_type": "execute_result"
    }
   ],
   "source": [
    "animals[(animals.SexuponOutcome.str.contains(\"Male\")) & \n",
    "        (animals.AgeuponOutcome==\"7 years\")&\n",
    "        (animals.AnimalType==\"Dog\") &\n",
    "        (animals.OutcomeType==\"Return_to_owner\")\n",
    "       ].SexuponOutcome.value_counts()"
   ]
  },
  {
   "cell_type": "code",
   "execution_count": 30,
   "metadata": {
    "collapsed": true
   },
   "outputs": [],
   "source": [
    "# Given its name other info, I guess it is a male, so we narrowed down to all similar animals and \n",
    "# assign the majority sex to it.\n",
    "animals.loc[3174, \"SexuponOutcome\"] = \"Neutered Male\""
   ]
  },
  {
   "cell_type": "markdown",
   "metadata": {},
   "source": [
    "As was shown before, \"Unknown\" sex has a disticntive distribution of outcome compared with other sex, we decide to\n",
    "leave it as is. Or, we could try [different encoding schemes](http://contrib.scikit-learn.org/categorical-encoding/) and see which one works the best on our project.\n",
    "\n",
    "So I'm planning to impute all these randomly with the top two sex within age range (0 days - 2 month) Or I should scale it idk."
   ]
  },
  {
   "cell_type": "code",
   "execution_count": 31,
   "metadata": {},
   "outputs": [
    {
     "name": "stdout",
     "output_type": "stream",
     "text": [
      "AnimalType Mode:  Cat\n",
      "AgeinDays Median:  21.0\n",
      "OutcomeType Mode: Transfer\n",
      "HasName Mode 0.0\n"
     ]
    }
   ],
   "source": [
    "unknowns = animals[animals.SexuponOutcome == \"Unknown\"]\n",
    "\n",
    "# so we try to see what their most shared features here\n",
    "print \"AnimalType Mode: \", unknowns.AnimalType.agg('mode')[0]\n",
    "print \"AgeinDays Median: \", unknowns.AgeinDays.median()\n",
    "print \"OutcomeType Mode:\", unknowns.OutcomeType.mode()[0]\n",
    "print \"HasName Mode\", unknowns.HasName.mode()[0]"
   ]
  },
  {
   "cell_type": "markdown",
   "metadata": {},
   "source": [
    "These animals are mostly cats, 21 days old, no name and ended up being transfered. We pull out all records that fits this criteria:"
   ]
  },
  {
   "cell_type": "code",
   "execution_count": 32,
   "metadata": {},
   "outputs": [
    {
     "name": "stdout",
     "output_type": "stream",
     "text": [
      "Total number of:  1093\n",
      "Intact Male      0.533679\n",
      "Intact Female    0.463360\n",
      "Neutered Male    0.002961\n",
      "Name: SexuponOutcome, dtype: float64\n"
     ]
    }
   ],
   "source": [
    "print \"Total number of: \", len(unknowns)\n",
    "p = animals[(animals.AnimalType==\"Cat\") & \n",
    "        (animals.AgeinDays<= 31) & \n",
    "        (animals.OutcomeType==\"Transfer\") &\n",
    "        (animals.HasName==0) & \n",
    "        (animals.SexuponOutcome!=\"Unknown\" )].SexuponOutcome.value_counts(normalize=True)\n",
    "print p"
   ]
  },
  {
   "cell_type": "markdown",
   "metadata": {},
   "source": [
    "So they are 53 percent intact male and 46 percent intact female. We either can use bernoulli/multinomial (if we really care) when assigning sex on these animals or leave as is."
   ]
  },
  {
   "cell_type": "code",
   "execution_count": 33,
   "metadata": {
    "collapsed": true
   },
   "outputs": [],
   "source": [
    "from scipy.stats import bernoulli\n",
    "im_p = p[\"Intact Male\"] "
   ]
  },
  {
   "cell_type": "code",
   "execution_count": 34,
   "metadata": {
    "collapsed": true
   },
   "outputs": [],
   "source": [
    "def unknown_sex(sexstring):\n",
    "    if sexstring == \"Unknown\":\n",
    "        sex = bernoulli.rvs(im_p)\n",
    "        if sex == 1:\n",
    "            return \"Intact Male\"\n",
    "        else:\n",
    "            return \"Intact Female\"\n",
    "    else:\n",
    "        return sexstring"
   ]
  },
  {
   "cell_type": "code",
   "execution_count": 35,
   "metadata": {},
   "outputs": [
    {
     "data": {
      "text/plain": [
       "Intact Male      0.542543\n",
       "Intact Female    0.457457\n",
       "Name: BernoulliSex, dtype: float64"
      ]
     },
     "execution_count": 35,
     "metadata": {},
     "output_type": "execute_result"
    }
   ],
   "source": [
    "animals[\"BernoulliSex\"] = animals[\"SexuponOutcome\"].map(unknown_sex, na_action=\"ignore\")\n",
    "\n",
    "animals.loc[animals.SexuponOutcome==\"Unknown\", \"BernoulliSex\"].value_counts(normalize=True)"
   ]
  },
  {
   "cell_type": "markdown",
   "metadata": {},
   "source": [
    "While we are imputing ourselves and scikit-learn has the most basic imputer, we can also try [Orange](https://docs.orange.biolab.si/2/reference/rst/Orange.feature.imputation.html) as well."
   ]
  },
  {
   "cell_type": "markdown",
   "metadata": {},
   "source": [
    "### Getting Breed information\n",
    "\n",
    "We need more information about \"Breed\". So we got some information from online sources.\n",
    "We think dog size and their characteristics are key features when people look for dogs. However, considering lots of shelter animals were abused, their characteristic may change. Not sure if dog personalities would be important in this case, but we are keeping it for now."
   ]
  },
  {
   "cell_type": "code",
   "execution_count": 36,
   "metadata": {},
   "outputs": [],
   "source": [
    "# Currently this website is now giving 404 error, fortunetly we saved the\n",
    "# the data inot a CSV file\n",
    "\n",
    "# import urllib2\n",
    "# from bs4 import BeautifulSoup\n",
    "\n",
    "# url = \"http://www.sorteaze.com/dog-breed-personality--social-traits.html\"\n",
    "# page = urllib2.urlopen(url).read()\n",
    "# soup = BeautifulSoup(page, \"lxml\")\n",
    "\n",
    "# data = []\n",
    "# for tr in soup.find_all('tr')[4:218]:\n",
    "#     tds = tr.find_all('td')\n",
    "#     data.append([td.text.encode('utf-8').strip() for td in tds])\n",
    "\n",
    "# columns = [th.text.encode('utf-8').strip() for th in soup.find_all('th')]\n",
    "# dog_personality = pd.DataFrame(data, columns=columns)"
   ]
  },
  {
   "cell_type": "code",
   "execution_count": 37,
   "metadata": {},
   "outputs": [],
   "source": [
    "# Currently this website is now giving 404 error, fortunetly we saved the\n",
    "# the data inot a CSV file\n",
    "\n",
    "# url = \"http://www.sorteaze.com/dog-breeds.html\"\n",
    "# page = urllib2.urlopen(url).read()\n",
    "# soup = BeautifulSoup(page, \"lxml\")\n",
    "\n",
    "# data = []\n",
    "# for tr in soup.find_all('tr')[3:217]:\n",
    "#     tds = tr.find_all('td')\n",
    "#     data.append([td.text.encode('utf-8').strip() for td in tds])\n",
    "    \n",
    "# columns = [th.text.encode('utf-8').strip() for th in soup.find_all('th')]\n",
    "\n",
    "# dog_traits = pd.DataFrame(data, columns=columns)"
   ]
  },
  {
   "cell_type": "code",
   "execution_count": 38,
   "metadata": {},
   "outputs": [
    {
     "data": {
      "text/html": [
       "<div>\n",
       "<style>\n",
       "    .dataframe thead tr:only-child th {\n",
       "        text-align: right;\n",
       "    }\n",
       "\n",
       "    .dataframe thead th {\n",
       "        text-align: left;\n",
       "    }\n",
       "\n",
       "    .dataframe tbody tr th {\n",
       "        vertical-align: top;\n",
       "    }\n",
       "</style>\n",
       "<table border=\"1\" class=\"dataframe\">\n",
       "  <thead>\n",
       "    <tr style=\"text-align: right;\">\n",
       "      <th></th>\n",
       "      <th>Breed Name</th>\n",
       "      <th>Protects Property</th>\n",
       "      <th>Hunts &amp; Chases</th>\n",
       "      <th>Less Likely to Wander</th>\n",
       "      <th>Loving</th>\n",
       "      <th>Child-Friendly</th>\n",
       "      <th>Dog-Friendly</th>\n",
       "      <th>Pet-Friendly</th>\n",
       "      <th>Stranger-Friendly</th>\n",
       "      <th>Avg Height (inches)</th>\n",
       "      <th>Avg Weight (pounds)</th>\n",
       "      <th>Size Score (1 to 5)</th>\n",
       "      <th>Avg Age</th>\n",
       "      <th>Fewer Health Issues</th>\n",
       "      <th>Energetic</th>\n",
       "      <th>Intelligent</th>\n",
       "      <th>Easy to Train</th>\n",
       "    </tr>\n",
       "  </thead>\n",
       "  <tbody>\n",
       "    <tr>\n",
       "      <th>0</th>\n",
       "      <td>Affenpinscher</td>\n",
       "      <td>4</td>\n",
       "      <td>2</td>\n",
       "      <td>5</td>\n",
       "      <td>5</td>\n",
       "      <td>2</td>\n",
       "      <td>3</td>\n",
       "      <td>4</td>\n",
       "      <td>4</td>\n",
       "      <td>10</td>\n",
       "      <td>10</td>\n",
       "      <td>1</td>\n",
       "      <td>11</td>\n",
       "      <td>3</td>\n",
       "      <td>3</td>\n",
       "      <td>4</td>\n",
       "      <td>3</td>\n",
       "    </tr>\n",
       "    <tr>\n",
       "      <th>1</th>\n",
       "      <td>Afghan Hound</td>\n",
       "      <td>2</td>\n",
       "      <td>5</td>\n",
       "      <td>1</td>\n",
       "      <td>2</td>\n",
       "      <td>3</td>\n",
       "      <td>3</td>\n",
       "      <td>3</td>\n",
       "      <td>3</td>\n",
       "      <td>26</td>\n",
       "      <td>55</td>\n",
       "      <td>4</td>\n",
       "      <td>12</td>\n",
       "      <td>3</td>\n",
       "      <td>4</td>\n",
       "      <td>3</td>\n",
       "      <td>2</td>\n",
       "    </tr>\n",
       "    <tr>\n",
       "      <th>2</th>\n",
       "      <td>Airedale Terrier</td>\n",
       "      <td>4</td>\n",
       "      <td>3</td>\n",
       "      <td>3</td>\n",
       "      <td>4</td>\n",
       "      <td>4</td>\n",
       "      <td>2</td>\n",
       "      <td>2</td>\n",
       "      <td>3</td>\n",
       "      <td>22</td>\n",
       "      <td>53</td>\n",
       "      <td>3</td>\n",
       "      <td>12</td>\n",
       "      <td>4</td>\n",
       "      <td>5</td>\n",
       "      <td>4</td>\n",
       "      <td>4</td>\n",
       "    </tr>\n",
       "    <tr>\n",
       "      <th>3</th>\n",
       "      <td>Akita</td>\n",
       "      <td>5</td>\n",
       "      <td>3</td>\n",
       "      <td>4</td>\n",
       "      <td>5</td>\n",
       "      <td>1</td>\n",
       "      <td>1</td>\n",
       "      <td>1</td>\n",
       "      <td>2</td>\n",
       "      <td>27</td>\n",
       "      <td>105</td>\n",
       "      <td>5</td>\n",
       "      <td>11</td>\n",
       "      <td>4</td>\n",
       "      <td>4</td>\n",
       "      <td>3</td>\n",
       "      <td>2</td>\n",
       "    </tr>\n",
       "    <tr>\n",
       "      <th>4</th>\n",
       "      <td>Alaskan Klee Kai</td>\n",
       "      <td>3</td>\n",
       "      <td>3</td>\n",
       "      <td>2</td>\n",
       "      <td>4</td>\n",
       "      <td>4</td>\n",
       "      <td>4</td>\n",
       "      <td>2</td>\n",
       "      <td>2</td>\n",
       "      <td>15</td>\n",
       "      <td>15</td>\n",
       "      <td>2</td>\n",
       "      <td>14</td>\n",
       "      <td>4</td>\n",
       "      <td>4</td>\n",
       "      <td>4</td>\n",
       "      <td>3</td>\n",
       "    </tr>\n",
       "  </tbody>\n",
       "</table>\n",
       "</div>"
      ],
      "text/plain": [
       "         Breed Name  Protects Property  Hunts & Chases  Less Likely to Wander  \\\n",
       "0     Affenpinscher                  4               2                      5   \n",
       "1      Afghan Hound                  2               5                      1   \n",
       "2  Airedale Terrier                  4               3                      3   \n",
       "3             Akita                  5               3                      4   \n",
       "4  Alaskan Klee Kai                  3               3                      2   \n",
       "\n",
       "   Loving  Child-Friendly  Dog-Friendly  Pet-Friendly  Stranger-Friendly  \\\n",
       "0       5               2             3             4                  4   \n",
       "1       2               3             3             3                  3   \n",
       "2       4               4             2             2                  3   \n",
       "3       5               1             1             1                  2   \n",
       "4       4               4             4             2                  2   \n",
       "\n",
       "   Avg Height (inches)  Avg Weight (pounds)  Size Score (1 to 5)  Avg Age  \\\n",
       "0                   10                   10                    1       11   \n",
       "1                   26                   55                    4       12   \n",
       "2                   22                   53                    3       12   \n",
       "3                   27                  105                    5       11   \n",
       "4                   15                   15                    2       14   \n",
       "\n",
       "   Fewer Health Issues  Energetic  Intelligent  Easy to Train  \n",
       "0                    3          3            4              3  \n",
       "1                    3          4            3              2  \n",
       "2                    4          5            4              4  \n",
       "3                    4          4            3              2  \n",
       "4                    4          4            4              3  "
      ]
     },
     "execution_count": 38,
     "metadata": {},
     "output_type": "execute_result"
    }
   ],
   "source": [
    "# Currently this website is now giving 404 error, fortunetly we saved the\n",
    "# the data inot a CSV file\n",
    "# dog_data = pd.merge(dog_personality, dog_traits, on='Breed Name', how='outer')\n",
    "\n",
    "dog_data = pd.read_csv('dog_data.csv').iloc[:, 1:]\n",
    "dog_data.head()"
   ]
  },
  {
   "cell_type": "code",
   "execution_count": 39,
   "metadata": {},
   "outputs": [],
   "source": [
    "# this uses data from the websites, which aren't available \n",
    "\n",
    "# dog_data.rename(columns=lambda x : x.replace(\" \", \"\"), inplace=True)\n",
    "# dog_data.loc[:, \"BreedName\"] = dog_data.BreedName.str.replace(\"- \", \"\")\n",
    "\n",
    "# dog_data.drop(dog_data.columns[range(1,4)+ [9,14,15]], inplace=True,axis=1)\n",
    "# dog_data[\"Friendliness\"] = dog_data.iloc[:, 1:6].as_matrix().astype(int).mean(1)\n",
    "# dog_data.drop(dog_data.columns[range(1,6)+[7,10]], inplace=True,axis=1)\n",
    "\n",
    "# dict={\"Herding\":\"Working\", \"Fighting\":\"Guarding\", \"Terrier\":\"Companion\"}\n",
    "# dog_data.loc[:, \"Bredfor\"] = dog_data.Bredfor.map(lambda s: dict[s] if dict.has_key(s) else s, na_action=\"Ignore\")\n",
    "\n",
    "# dog_data.loc[:, \"Intelligent\"] = dog_data.iloc[:, 4:6].as_matrix().astype(int).mean(1)\n",
    "# dog_data.drop([\"EasytoTrain\"], axis=1, inplace=True)\n",
    "# dog_data.BreedName.str.replace(\"-\", \" \").str.split(\" \")"
   ]
  },
  {
   "cell_type": "code",
   "execution_count": 40,
   "metadata": {},
   "outputs": [
    {
     "data": {
      "text/plain": [
       "0                             [Affenpinscher]\n",
       "1                             [Afghan, Hound]\n",
       "2                         [Airedale, Terrier]\n",
       "3                                     [Akita]\n",
       "4                        [Alaskan, Klee, Kai]\n",
       "5                         [Alaskan, Malamute]\n",
       "6      [American, Black, and, Tan, Coonhound]\n",
       "7                         [American, Bulldog]\n",
       "8                           [American, Bully]\n",
       "9                [American, Eskimo, Dog, Toy]\n",
       "10         [American, Eskimo, Dog, Miniature]\n",
       "11          [American, Eskimo, Dog, Standard]\n",
       "12                       [American, Foxhound]\n",
       "13              [American, Hairless, Terrier]\n",
       "14             [American, Pit, Bull, Terrier]\n",
       "15                 [American, Water, Spaniel]\n",
       "16                  [Australian, Cattle, Dog]\n",
       "17                     [Australian, Shepherd]\n",
       "18                      [Australian, Terrier]\n",
       "19                                  [Azawakh]\n",
       "20                                  [Basenji]\n",
       "21          [Basset, Griffon, Vendeen, Grand]\n",
       "22          [Basset, Griffon, Vendeen, Petit]\n",
       "23                            [Basset, Hound]\n",
       "24                                   [Beagle]\n",
       "25                          [Bearded, Collie]\n",
       "26                                [Beauceron]\n",
       "27                      [Bedlington, Terrier]\n",
       "28                       [Belgian, Laekenois]\n",
       "29                        [Belgian, Malinois]\n",
       "                        ...                  \n",
       "184                    [Small, Munsterlander]\n",
       "185                    [Smooth, Fox, Terrier]\n",
       "186          [Soft, Coated, Wheaten, Terrier]\n",
       "187                [South, African, Boerboel]\n",
       "188                     [Spanish, Water, Dog]\n",
       "189                       [Spinone, Italiano]\n",
       "190            [Staffordshire, Bull, Terrier]\n",
       "191                     [Standard, Schnauzer]\n",
       "192                         [Sussex, Spaniel]\n",
       "193                       [Swedish, Vallhund]\n",
       "194               [Teddy, Roosevelt, Terrier]\n",
       "195                        [Tibetan, Mastiff]\n",
       "196                        [Tibetan, Spaniel]\n",
       "197                        [Tibetan, Terrier]\n",
       "198                       [Toy, Fox, Terrier]\n",
       "199                            [Treeing, Cur]\n",
       "200              [Treeing, Walker, Coonhound]\n",
       "201                                  [Vizsla]\n",
       "202                              [Weimaraner]\n",
       "203                [Welsh, Springer, Spaniel]\n",
       "204                          [Welsh, Terrier]\n",
       "205          [West, Highland, White, Terrier]\n",
       "206                                 [Whippet]\n",
       "207                      [Wire, Fox, Terrier]\n",
       "208           [Wirehaired, Pointing, Griffon]\n",
       "209                      [Wirehaired, Vizsla]\n",
       "210               [Xoloitzcuintli, Miniature]\n",
       "211                     [Xoloitzcuintli, Toy]\n",
       "212                [Xoloitzcuintli, Standard]\n",
       "213                      [Yorkshire, Terrier]\n",
       "Name: BreedName, Length: 214, dtype: object"
      ]
     },
     "execution_count": 40,
     "metadata": {},
     "output_type": "execute_result"
    }
   ],
   "source": [
    "dog_data.rename(columns=lambda x : x.replace(\" \", \"\"), inplace=True)\n",
    "dog_data.loc[:, \"BreedName\"] = dog_data.BreedName.str.replace(\"- \", \"\")\n",
    "\n",
    "dog_data.drop(dog_data.columns[range(1,4)+ [13,14]], inplace=True,axis=1)\n",
    "\n",
    "dog_data[\"Friendliness\"] = dog_data.iloc[:, 1:5].as_matrix().astype(int).mean(1)\n",
    "dog_data.drop(dog_data.columns[range(1,6)], inplace=True,axis=1)\n",
    "\n",
    "dog_data.head()\n",
    "\n",
    "dog_data.loc[:, \"Intelligent\"] = dog_data.iloc[:, 5:6].as_matrix().astype(int).mean(1)\n",
    "dog_data.drop([\"EasytoTrain\"], axis=1, inplace=True)\n",
    "dog_data.BreedName.str.replace(\"-\", \" \").str.split(\" \")"
   ]
  },
  {
   "cell_type": "code",
   "execution_count": 41,
   "metadata": {},
   "outputs": [
    {
     "name": "stderr",
     "output_type": "stream",
     "text": [
      "/Users/mattspinnelli/anaconda3/envs/ser627a/lib/python2.7/site-packages/ipykernel_launcher.py:45: RuntimeWarning: Mean of empty slice.\n"
     ]
    }
   ],
   "source": [
    "import re\n",
    "import itertools\n",
    "from functools import wraps\n",
    "import sys\n",
    "\n",
    "def memoize(func):\n",
    "    cache = {}\n",
    "    @wraps(func)\n",
    "    def wrap(*args):\n",
    "        if args not in cache:\n",
    "            cache[args] = func(*args)\n",
    "        return cache[args]\n",
    "    return wrap\n",
    "\n",
    "@memoize\n",
    "def try_permutations(tokens):    \n",
    "    min_count = sys.maxint\n",
    "    best_string = None\n",
    "    for i in range(len(tokens)):\n",
    "        candidate = itertools.permutations(tokens, i+1)\n",
    "        for c in candidate:\n",
    "            string = ' '.join(x for x in c)            \n",
    "            count = len(dog_data[dog_data.BreedName.str.contains(string, case=False)])\n",
    "            if count == 1:\n",
    "                return string\n",
    "            if count < min_count and count != 0:\n",
    "                min_count, best_string = count, string\n",
    "    return best_string\n",
    "            \n",
    "\n",
    "def add_dog_data(x):\n",
    "    name = x.Breed.replace(\" Mix\", \"\")\n",
    "    breeds= name.split(\"/\")\n",
    "    # assert len(breeds) <= 2\n",
    "    \n",
    "    matches = pd.DataFrame()\n",
    "    for br in breeds:\n",
    "        best_string = try_permutations(frozenset(br.split(\" \")))\n",
    "        if best_string:\n",
    "            matches = pd.concat([matches, dog_data[dog_data.BreedName.str.contains(best_string, case=False)]])\n",
    "    \n",
    "    return pd.Series(matches.iloc[:,2:]\n",
    "                     .as_matrix()\n",
    "                     .astype(int)\n",
    "                     .mean(axis=0))                \n",
    "\n",
    "animals[dog_data.columns[2:]] = animals[animals.AnimalType=='Dog'].apply(add_dog_data, axis=1)\n",
    "# dog_data.to_csv('dog_data_clean.csv')\n",
    "# animals.drop(\"Bredfor\", axis=1, inplace=True)"
   ]
  },
  {
   "cell_type": "code",
   "execution_count": 42,
   "metadata": {
    "collapsed": true
   },
   "outputs": [],
   "source": [
    "animals['IsMix'] = animals[\"Breed\"].map(lambda x: any([s in str(x) for s in ['Mix', '/']]))"
   ]
  },
  {
   "cell_type": "markdown",
   "metadata": {},
   "source": [
    "# Hair length and Color"
   ]
  },
  {
   "cell_type": "markdown",
   "metadata": {},
   "source": [
    "So far these two are not very helpful"
   ]
  },
  {
   "cell_type": "code",
   "execution_count": 43,
   "metadata": {
    "collapsed": true
   },
   "outputs": [],
   "source": [
    "animals['IsMultiColor'] = animals.Color.map(lambda x: '/' in str(x))"
   ]
  },
  {
   "cell_type": "code",
   "execution_count": 44,
   "metadata": {
    "collapsed": true
   },
   "outputs": [],
   "source": [
    "def hair(x):\n",
    "    if 'Short' in str(x):\n",
    "        return 'Short'\n",
    "    elif 'Medium' in str(x):\n",
    "        return 'Medium'\n",
    "    elif 'Long' in str(x):\n",
    "        return 'Long'\n",
    "    else:\n",
    "        return np.nan\n",
    "\n",
    "animals['Hair'] = animals[\"Breed\"].map(hair)"
   ]
  },
  {
   "cell_type": "code",
   "execution_count": 45,
   "metadata": {
    "collapsed": true
   },
   "outputs": [],
   "source": [
    "animals.loc[animals.AnimalType==\"Cat\", 'AvgWeight(pounds)'] = 9\n",
    "animals.loc[animals.AnimalType==\"Cat\", \"Inteligent\"] = 3\n",
    "animals.loc[animals.AnimalType==\"Cat\", \"Friendliness\"] = 3.5"
   ]
  },
  {
   "cell_type": "code",
   "execution_count": 46,
   "metadata": {},
   "outputs": [
    {
     "data": {
      "text/plain": [
       "White        12198\n",
       "Black         8038\n",
       "Brown         6699\n",
       "Tabby         5191\n",
       "Tan           3031\n",
       "Blue          2358\n",
       "Orange        1440\n",
       "Brindle       1021\n",
       "Red            991\n",
       "Tricolor       912\n",
       "Tortie         618\n",
       "Cream          612\n",
       "Point          588\n",
       "Calico         583\n",
       "Chocolate      519\n",
       "Gray           407\n",
       "Torbie         398\n",
       "Buff           328\n",
       "Merle          325\n",
       "Sable          324\n",
       "Yellow         276\n",
       "Fawn           209\n",
       "Lynx           188\n",
       "Seal           159\n",
       "Silver         122\n",
       "Tick           117\n",
       "Gold            86\n",
       "Flame           86\n",
       "Smoke           75\n",
       "Lilac           39\n",
       "Liver           31\n",
       "Apricot         30\n",
       "Tiger           17\n",
       "Pink             4\n",
       "Agouti           2\n",
       "Ruddy            1\n",
       "dtype: int64"
      ]
     },
     "execution_count": 46,
     "metadata": {},
     "output_type": "execute_result"
    }
   ],
   "source": [
    "color_words = []\n",
    "animals[\"ColorList\"] = animals.Color.str.split(\"/| \")\n",
    "animals.ColorList.map(lambda o: [color_words.append(s) for s in o])\n",
    "pd.Series(color_words).value_counts()"
   ]
  },
  {
   "cell_type": "code",
   "execution_count": 47,
   "metadata": {
    "collapsed": true
   },
   "outputs": [],
   "source": [
    "color_words = set(color_words)"
   ]
  },
  {
   "cell_type": "code",
   "execution_count": 48,
   "metadata": {},
   "outputs": [],
   "source": [
    "import webcolors"
   ]
  },
  {
   "cell_type": "code",
   "execution_count": 49,
   "metadata": {},
   "outputs": [],
   "source": [
    "bad_colors = []\n",
    "color_map = {}\n",
    "\n",
    "for c in color_words:\n",
    "    if not color_map.has_key(c):\n",
    "        try:\n",
    "            color_map[c] = webcolors.name_to_rgb(c)\n",
    "        except:\n",
    "            bad_colors.append(c)"
   ]
  },
  {
   "cell_type": "code",
   "execution_count": 50,
   "metadata": {
    "scrolled": false
   },
   "outputs": [
    {
     "data": {
      "text/plain": [
       "{'Black': (0, 0, 0),\n",
       " 'Blue': (0, 0, 255),\n",
       " 'Brown': (165, 42, 42),\n",
       " 'Chocolate': (210, 105, 30),\n",
       " 'Gold': (255, 215, 0),\n",
       " 'Gray': (128, 128, 128),\n",
       " 'Orange': (255, 165, 0),\n",
       " 'Pink': (255, 192, 203),\n",
       " 'Red': (255, 0, 0),\n",
       " 'Silver': (192, 192, 192),\n",
       " 'Tan': (210, 180, 140),\n",
       " 'White': (255, 255, 255),\n",
       " 'Yellow': (255, 255, 0)}"
      ]
     },
     "execution_count": 50,
     "metadata": {},
     "output_type": "execute_result"
    }
   ],
   "source": [
    "color_map"
   ]
  },
  {
   "cell_type": "code",
   "execution_count": 51,
   "metadata": {
    "scrolled": true
   },
   "outputs": [
    {
     "data": {
      "text/plain": [
       "Brown Tabby                  1635\n",
       "Brown Tabby/White             940\n",
       "Orange Tabby                  841\n",
       "Tricolor                      752\n",
       "Tortie                        530\n",
       "Calico                        517\n",
       "Orange Tabby/White            455\n",
       "Brown Brindle/White           450\n",
       "Blue Tabby                    433\n",
       "Torbie                        335\n",
       "Blue Tabby/White              241\n",
       "Brown Brindle                 232\n",
       "Buff                          199\n",
       "Sable                         198\n",
       "Cream Tabby                   198\n",
       "Lynx Point                    168\n",
       "Cream                         151\n",
       "Seal Point                    136\n",
       "White/Brown Brindle           115\n",
       "Fawn/White                    109\n",
       "White/Brown Tabby              98\n",
       "Sable/White                    86\n",
       "Flame Point                    85\n",
       "Cream Tabby/White              79\n",
       "Blue Merle                     77\n",
       "Black Brindle/White            74\n",
       "Fawn                           73\n",
       "Torbie/White                   60\n",
       "White/Orange Tabby             52\n",
       "White/Tricolor                 51\n",
       "                             ... \n",
       "Liver/Buff                      1\n",
       "Chocolate/Brown Brindle         1\n",
       "Chocolate/Brown Merle           1\n",
       "Red Tick/Blue Tick              1\n",
       "Torbie/Brown                    1\n",
       "Tan/Yellow Brindle              1\n",
       "Yellow Brindle/Tan              1\n",
       "Red Tick/Brown Merle            1\n",
       "Red Tick/Brown                  1\n",
       "Fawn/Brown                      1\n",
       "Lynx Point/Brown Tabby          1\n",
       "Blue Tabby/Cream                1\n",
       "Calico/Blue Tabby               1\n",
       "Blue Tick/Red                   1\n",
       "Gray Tabby/Black                1\n",
       "Blue/Tortie                     1\n",
       "Blue Merle/Cream                1\n",
       "Calico/Blue Cream               1\n",
       "Blue Tabby/Tan                  1\n",
       "Tan/Apricot                     1\n",
       "Red Tick/Black                  1\n",
       "Brown Merle/Tan                 1\n",
       "Brown Tiger/White               1\n",
       "Brown/Black Brindle             1\n",
       "Torbie/Blue Cream               1\n",
       "Red Merle/Tan                   1\n",
       "Buff/Red                        1\n",
       "Blue Smoke/Brown                1\n",
       "Fawn/Tricolor                   1\n",
       "Brown Brindle/Brown Merle       1\n",
       "Name: Color, Length: 270, dtype: int64"
      ]
     },
     "execution_count": 51,
     "metadata": {},
     "output_type": "execute_result"
    }
   ],
   "source": [
    "animals[animals.Color.map(lambda x:any([s in str(x) for s in bad_colors]))].Color.value_counts()"
   ]
  },
  {
   "cell_type": "code",
   "execution_count": 52,
   "metadata": {
    "collapsed": true
   },
   "outputs": [],
   "source": [
    "# animals.to_csv(\"animal\")"
   ]
  },
  {
   "cell_type": "markdown",
   "metadata": {},
   "source": [
    "### We might get weather too. I'm just leaving it here\n",
    "[This](https://pypi.python.org/pypi/get-weather-data) looks promising."
   ]
  },
  {
   "cell_type": "code",
   "execution_count": 55,
   "metadata": {},
   "outputs": [],
   "source": [
    "import category_encoders as ce\n",
    "\n",
    "encoder = ce.BackwardDifferenceEncoder(cols=[\"SexuponOutcome\"])"
   ]
  },
  {
   "cell_type": "code",
   "execution_count": null,
   "metadata": {
    "collapsed": true
   },
   "outputs": [],
   "source": []
  }
 ],
 "metadata": {
  "anaconda-cloud": {},
  "kernelspec": {
   "display_name": "Python 2",
   "language": "python",
   "name": "python2"
  },
  "language_info": {
   "codemirror_mode": {
    "name": "ipython",
    "version": 2
   },
   "file_extension": ".py",
   "mimetype": "text/x-python",
   "name": "python",
   "nbconvert_exporter": "python",
   "pygments_lexer": "ipython2",
   "version": "2.7.13"
  }
 },
 "nbformat": 4,
 "nbformat_minor": 1
}
